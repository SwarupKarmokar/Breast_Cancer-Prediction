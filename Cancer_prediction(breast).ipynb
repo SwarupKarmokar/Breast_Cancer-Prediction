{
 "cells": [
  {
   "cell_type": "code",
   "execution_count": 1,
   "metadata": {},
   "outputs": [],
   "source": [
    "import pandas as pd\n",
    "import matplotlib.pyplot as plt"
   ]
  },
  {
   "cell_type": "code",
   "execution_count": 2,
   "metadata": {},
   "outputs": [],
   "source": [
    "import torch\n",
    "import torch.nn as nn\n",
    "import torch.nn.functional as F"
   ]
  },
  {
   "cell_type": "code",
   "execution_count": 3,
   "metadata": {},
   "outputs": [],
   "source": [
    "df = pd.read_csv('cancer_classification.csv')"
   ]
  },
  {
   "cell_type": "code",
   "execution_count": 4,
   "metadata": {},
   "outputs": [
    {
     "data": {
      "text/html": [
       "<div>\n",
       "<style scoped>\n",
       "    .dataframe tbody tr th:only-of-type {\n",
       "        vertical-align: middle;\n",
       "    }\n",
       "\n",
       "    .dataframe tbody tr th {\n",
       "        vertical-align: top;\n",
       "    }\n",
       "\n",
       "    .dataframe thead th {\n",
       "        text-align: right;\n",
       "    }\n",
       "</style>\n",
       "<table border=\"1\" class=\"dataframe\">\n",
       "  <thead>\n",
       "    <tr style=\"text-align: right;\">\n",
       "      <th></th>\n",
       "      <th>mean radius</th>\n",
       "      <th>mean texture</th>\n",
       "      <th>mean perimeter</th>\n",
       "      <th>mean area</th>\n",
       "      <th>mean smoothness</th>\n",
       "      <th>mean compactness</th>\n",
       "      <th>mean concavity</th>\n",
       "      <th>mean concave points</th>\n",
       "      <th>mean symmetry</th>\n",
       "      <th>mean fractal dimension</th>\n",
       "      <th>...</th>\n",
       "      <th>worst texture</th>\n",
       "      <th>worst perimeter</th>\n",
       "      <th>worst area</th>\n",
       "      <th>worst smoothness</th>\n",
       "      <th>worst compactness</th>\n",
       "      <th>worst concavity</th>\n",
       "      <th>worst concave points</th>\n",
       "      <th>worst symmetry</th>\n",
       "      <th>worst fractal dimension</th>\n",
       "      <th>benign_0__mal_1</th>\n",
       "    </tr>\n",
       "  </thead>\n",
       "  <tbody>\n",
       "    <tr>\n",
       "      <th>0</th>\n",
       "      <td>17.99</td>\n",
       "      <td>10.38</td>\n",
       "      <td>122.80</td>\n",
       "      <td>1001.0</td>\n",
       "      <td>0.11840</td>\n",
       "      <td>0.27760</td>\n",
       "      <td>0.3001</td>\n",
       "      <td>0.14710</td>\n",
       "      <td>0.2419</td>\n",
       "      <td>0.07871</td>\n",
       "      <td>...</td>\n",
       "      <td>17.33</td>\n",
       "      <td>184.60</td>\n",
       "      <td>2019.0</td>\n",
       "      <td>0.1622</td>\n",
       "      <td>0.6656</td>\n",
       "      <td>0.7119</td>\n",
       "      <td>0.2654</td>\n",
       "      <td>0.4601</td>\n",
       "      <td>0.11890</td>\n",
       "      <td>0</td>\n",
       "    </tr>\n",
       "    <tr>\n",
       "      <th>1</th>\n",
       "      <td>20.57</td>\n",
       "      <td>17.77</td>\n",
       "      <td>132.90</td>\n",
       "      <td>1326.0</td>\n",
       "      <td>0.08474</td>\n",
       "      <td>0.07864</td>\n",
       "      <td>0.0869</td>\n",
       "      <td>0.07017</td>\n",
       "      <td>0.1812</td>\n",
       "      <td>0.05667</td>\n",
       "      <td>...</td>\n",
       "      <td>23.41</td>\n",
       "      <td>158.80</td>\n",
       "      <td>1956.0</td>\n",
       "      <td>0.1238</td>\n",
       "      <td>0.1866</td>\n",
       "      <td>0.2416</td>\n",
       "      <td>0.1860</td>\n",
       "      <td>0.2750</td>\n",
       "      <td>0.08902</td>\n",
       "      <td>0</td>\n",
       "    </tr>\n",
       "    <tr>\n",
       "      <th>2</th>\n",
       "      <td>19.69</td>\n",
       "      <td>21.25</td>\n",
       "      <td>130.00</td>\n",
       "      <td>1203.0</td>\n",
       "      <td>0.10960</td>\n",
       "      <td>0.15990</td>\n",
       "      <td>0.1974</td>\n",
       "      <td>0.12790</td>\n",
       "      <td>0.2069</td>\n",
       "      <td>0.05999</td>\n",
       "      <td>...</td>\n",
       "      <td>25.53</td>\n",
       "      <td>152.50</td>\n",
       "      <td>1709.0</td>\n",
       "      <td>0.1444</td>\n",
       "      <td>0.4245</td>\n",
       "      <td>0.4504</td>\n",
       "      <td>0.2430</td>\n",
       "      <td>0.3613</td>\n",
       "      <td>0.08758</td>\n",
       "      <td>0</td>\n",
       "    </tr>\n",
       "    <tr>\n",
       "      <th>3</th>\n",
       "      <td>11.42</td>\n",
       "      <td>20.38</td>\n",
       "      <td>77.58</td>\n",
       "      <td>386.1</td>\n",
       "      <td>0.14250</td>\n",
       "      <td>0.28390</td>\n",
       "      <td>0.2414</td>\n",
       "      <td>0.10520</td>\n",
       "      <td>0.2597</td>\n",
       "      <td>0.09744</td>\n",
       "      <td>...</td>\n",
       "      <td>26.50</td>\n",
       "      <td>98.87</td>\n",
       "      <td>567.7</td>\n",
       "      <td>0.2098</td>\n",
       "      <td>0.8663</td>\n",
       "      <td>0.6869</td>\n",
       "      <td>0.2575</td>\n",
       "      <td>0.6638</td>\n",
       "      <td>0.17300</td>\n",
       "      <td>0</td>\n",
       "    </tr>\n",
       "    <tr>\n",
       "      <th>4</th>\n",
       "      <td>20.29</td>\n",
       "      <td>14.34</td>\n",
       "      <td>135.10</td>\n",
       "      <td>1297.0</td>\n",
       "      <td>0.10030</td>\n",
       "      <td>0.13280</td>\n",
       "      <td>0.1980</td>\n",
       "      <td>0.10430</td>\n",
       "      <td>0.1809</td>\n",
       "      <td>0.05883</td>\n",
       "      <td>...</td>\n",
       "      <td>16.67</td>\n",
       "      <td>152.20</td>\n",
       "      <td>1575.0</td>\n",
       "      <td>0.1374</td>\n",
       "      <td>0.2050</td>\n",
       "      <td>0.4000</td>\n",
       "      <td>0.1625</td>\n",
       "      <td>0.2364</td>\n",
       "      <td>0.07678</td>\n",
       "      <td>0</td>\n",
       "    </tr>\n",
       "  </tbody>\n",
       "</table>\n",
       "<p>5 rows × 31 columns</p>\n",
       "</div>"
      ],
      "text/plain": [
       "   mean radius  mean texture  mean perimeter  mean area  mean smoothness  \\\n",
       "0        17.99         10.38          122.80     1001.0          0.11840   \n",
       "1        20.57         17.77          132.90     1326.0          0.08474   \n",
       "2        19.69         21.25          130.00     1203.0          0.10960   \n",
       "3        11.42         20.38           77.58      386.1          0.14250   \n",
       "4        20.29         14.34          135.10     1297.0          0.10030   \n",
       "\n",
       "   mean compactness  mean concavity  mean concave points  mean symmetry  \\\n",
       "0           0.27760          0.3001              0.14710         0.2419   \n",
       "1           0.07864          0.0869              0.07017         0.1812   \n",
       "2           0.15990          0.1974              0.12790         0.2069   \n",
       "3           0.28390          0.2414              0.10520         0.2597   \n",
       "4           0.13280          0.1980              0.10430         0.1809   \n",
       "\n",
       "   mean fractal dimension  ...  worst texture  worst perimeter  worst area  \\\n",
       "0                 0.07871  ...          17.33           184.60      2019.0   \n",
       "1                 0.05667  ...          23.41           158.80      1956.0   \n",
       "2                 0.05999  ...          25.53           152.50      1709.0   \n",
       "3                 0.09744  ...          26.50            98.87       567.7   \n",
       "4                 0.05883  ...          16.67           152.20      1575.0   \n",
       "\n",
       "   worst smoothness  worst compactness  worst concavity  worst concave points  \\\n",
       "0            0.1622             0.6656           0.7119                0.2654   \n",
       "1            0.1238             0.1866           0.2416                0.1860   \n",
       "2            0.1444             0.4245           0.4504                0.2430   \n",
       "3            0.2098             0.8663           0.6869                0.2575   \n",
       "4            0.1374             0.2050           0.4000                0.1625   \n",
       "\n",
       "   worst symmetry  worst fractal dimension  benign_0__mal_1  \n",
       "0          0.4601                  0.11890                0  \n",
       "1          0.2750                  0.08902                0  \n",
       "2          0.3613                  0.08758                0  \n",
       "3          0.6638                  0.17300                0  \n",
       "4          0.2364                  0.07678                0  \n",
       "\n",
       "[5 rows x 31 columns]"
      ]
     },
     "execution_count": 4,
     "metadata": {},
     "output_type": "execute_result"
    }
   ],
   "source": [
    "df.head()"
   ]
  },
  {
   "cell_type": "code",
   "execution_count": 5,
   "metadata": {},
   "outputs": [
    {
     "name": "stdout",
     "output_type": "stream",
     "text": [
      "<class 'pandas.core.frame.DataFrame'>\n",
      "RangeIndex: 569 entries, 0 to 568\n",
      "Data columns (total 31 columns):\n",
      " #   Column                   Non-Null Count  Dtype  \n",
      "---  ------                   --------------  -----  \n",
      " 0   mean radius              569 non-null    float64\n",
      " 1   mean texture             569 non-null    float64\n",
      " 2   mean perimeter           569 non-null    float64\n",
      " 3   mean area                569 non-null    float64\n",
      " 4   mean smoothness          569 non-null    float64\n",
      " 5   mean compactness         569 non-null    float64\n",
      " 6   mean concavity           569 non-null    float64\n",
      " 7   mean concave points      569 non-null    float64\n",
      " 8   mean symmetry            569 non-null    float64\n",
      " 9   mean fractal dimension   569 non-null    float64\n",
      " 10  radius error             569 non-null    float64\n",
      " 11  texture error            569 non-null    float64\n",
      " 12  perimeter error          569 non-null    float64\n",
      " 13  area error               569 non-null    float64\n",
      " 14  smoothness error         569 non-null    float64\n",
      " 15  compactness error        569 non-null    float64\n",
      " 16  concavity error          569 non-null    float64\n",
      " 17  concave points error     569 non-null    float64\n",
      " 18  symmetry error           569 non-null    float64\n",
      " 19  fractal dimension error  569 non-null    float64\n",
      " 20  worst radius             569 non-null    float64\n",
      " 21  worst texture            569 non-null    float64\n",
      " 22  worst perimeter          569 non-null    float64\n",
      " 23  worst area               569 non-null    float64\n",
      " 24  worst smoothness         569 non-null    float64\n",
      " 25  worst compactness        569 non-null    float64\n",
      " 26  worst concavity          569 non-null    float64\n",
      " 27  worst concave points     569 non-null    float64\n",
      " 28  worst symmetry           569 non-null    float64\n",
      " 29  worst fractal dimension  569 non-null    float64\n",
      " 30  benign_0__mal_1          569 non-null    int64  \n",
      "dtypes: float64(30), int64(1)\n",
      "memory usage: 137.9 KB\n"
     ]
    }
   ],
   "source": [
    "df.info()"
   ]
  },
  {
   "cell_type": "code",
   "execution_count": 6,
   "metadata": {},
   "outputs": [],
   "source": [
    "from sklearn.model_selection import train_test_split"
   ]
  },
  {
   "cell_type": "code",
   "execution_count": 7,
   "metadata": {},
   "outputs": [],
   "source": [
    "X = df.drop('benign_0__mal_1', axis = 1).values\n",
    "y = df['benign_0__mal_1'].values"
   ]
  },
  {
   "cell_type": "code",
   "execution_count": 8,
   "metadata": {},
   "outputs": [],
   "source": [
    "X_train, X_test, y_train, y_test = train_test_split(X, y, test_size=0.3, random_state=101)"
   ]
  },
  {
   "cell_type": "code",
   "execution_count": 9,
   "metadata": {},
   "outputs": [],
   "source": [
    "X_train = torch.FloatTensor(X_train)\n",
    "X_test = torch.FloatTensor(X_test)\n",
    "y_train = torch.LongTensor(y_train)\n",
    "y_test = torch.LongTensor(y_test)"
   ]
  },
  {
   "cell_type": "code",
   "execution_count": 10,
   "metadata": {},
   "outputs": [],
   "source": [
    "class Model(nn.Module):\n",
    "    def __init__(self,input_sz, h1, h2, h3, out_sz):\n",
    "        super().__init__()\n",
    "        self.fc1 = nn.Linear(input_sz, h1)\n",
    "        self.fc2 = nn.Linear(h1, h2)\n",
    "        self.fc3 = nn.Linear(h2, h3)\n",
    "        self.out = nn.Linear(h3, out_sz)\n",
    "        \n",
    "    def forward(self,x):\n",
    "        x = F.relu(self.fc1(x))\n",
    "        x = F.relu(self.fc2(x))\n",
    "        x = F.relu(self.fc3(x))\n",
    "        x = self.out(x)\n",
    "        \n",
    "        return x"
   ]
  },
  {
   "cell_type": "code",
   "execution_count": 11,
   "metadata": {},
   "outputs": [
    {
     "data": {
      "text/plain": [
       "(569, 30)"
      ]
     },
     "execution_count": 11,
     "metadata": {},
     "output_type": "execute_result"
    }
   ],
   "source": [
    "X.shape"
   ]
  },
  {
   "cell_type": "code",
   "execution_count": 12,
   "metadata": {},
   "outputs": [],
   "source": [
    "torch.manual_seed(32)\n",
    "my_model = Model(input_sz=30, h1=60, h2=20, h3=10 ,out_sz=2)"
   ]
  },
  {
   "cell_type": "code",
   "execution_count": 13,
   "metadata": {},
   "outputs": [
    {
     "data": {
      "text/plain": [
       "Model(\n",
       "  (fc1): Linear(in_features=30, out_features=60, bias=True)\n",
       "  (fc2): Linear(in_features=60, out_features=20, bias=True)\n",
       "  (fc3): Linear(in_features=20, out_features=10, bias=True)\n",
       "  (out): Linear(in_features=10, out_features=2, bias=True)\n",
       ")"
      ]
     },
     "execution_count": 13,
     "metadata": {},
     "output_type": "execute_result"
    }
   ],
   "source": [
    "my_model"
   ]
  },
  {
   "cell_type": "code",
   "execution_count": 14,
   "metadata": {},
   "outputs": [],
   "source": [
    "criterion = nn.CrossEntropyLoss()\n",
    "optimizer = torch.optim.Adam(my_model.parameters(), lr = 0.001)"
   ]
  },
  {
   "cell_type": "code",
   "execution_count": 15,
   "metadata": {},
   "outputs": [
    {
     "name": "stdout",
     "output_type": "stream",
     "text": [
      "epochs: 0 loss: 0.7321192026138306\n",
      "epochs: 10 loss: 0.6688722968101501\n",
      "epochs: 20 loss: 0.6431043148040771\n",
      "epochs: 30 loss: 0.6106914281845093\n",
      "epochs: 40 loss: 0.5559884309768677\n",
      "epochs: 50 loss: 0.43485021591186523\n",
      "epochs: 60 loss: 0.3024318516254425\n",
      "epochs: 70 loss: 0.23660768568515778\n",
      "epochs: 80 loss: 0.19715847074985504\n",
      "epochs: 90 loss: 0.18977168202400208\n",
      "epochs: 100 loss: 0.18155665695667267\n",
      "epochs: 110 loss: 0.17618612945079803\n",
      "epochs: 120 loss: 0.17166152596473694\n",
      "epochs: 130 loss: 0.16758224368095398\n",
      "epochs: 140 loss: 0.1640927642583847\n",
      "epochs: 150 loss: 0.16088899970054626\n",
      "epochs: 160 loss: 0.15821512043476105\n",
      "epochs: 170 loss: 0.15487352013587952\n",
      "epochs: 180 loss: 0.15207122266292572\n",
      "epochs: 190 loss: 0.14990685880184174\n",
      "epochs: 200 loss: 0.14795547723770142\n",
      "epochs: 210 loss: 0.14522281289100647\n",
      "epochs: 220 loss: 0.14147663116455078\n",
      "epochs: 230 loss: 0.14113208651542664\n",
      "epochs: 240 loss: 0.138811394572258\n",
      "epochs: 250 loss: 0.13476580381393433\n",
      "epochs: 260 loss: 0.13276149332523346\n",
      "epochs: 270 loss: 0.13043510913848877\n",
      "epochs: 280 loss: 0.1277465969324112\n",
      "epochs: 290 loss: 0.1253771036863327\n",
      "epochs: 299 loss: 0.12466473877429962\n",
      "\n",
      "Duration: 2 seconds\n"
     ]
    }
   ],
   "source": [
    "import time \n",
    "start_time = time.time()\n",
    "epochs = 300\n",
    "losses = []\n",
    "\n",
    "for i in range(epochs):\n",
    "    y_pred = my_model.forward(X_train)\n",
    "    loss = criterion(y_pred,y_train)\n",
    "    \n",
    "    losses.append(loss)\n",
    "    \n",
    "    if i%10 == 0:\n",
    "        print(f\"epochs: {i} loss: {loss}\")\n",
    "        \n",
    "    optimizer.zero_grad()\n",
    "    loss.backward()\n",
    "    optimizer.step()\n",
    "print(f\"epochs: {i} loss: {loss}\")\n",
    "print(f'\\nDuration: {time.time() - start_time:.0f} seconds')"
   ]
  },
  {
   "cell_type": "code",
   "execution_count": 16,
   "metadata": {},
   "outputs": [
    {
     "data": {
      "text/plain": [
       "Text(0, 0.5, 'loss')"
      ]
     },
     "execution_count": 16,
     "metadata": {},
     "output_type": "execute_result"
    },
    {
     "data": {
      "image/png": "[encoded data removed]",
      "text/plain": [
       "<Figure size 432x288 with 1 Axes>"
      ]
     },
     "metadata": {
      "needs_background": "light"
     },
     "output_type": "display_data"
    }
   ],
   "source": [
    "plt.plot(range(epochs), losses)\n",
    "plt.xlabel('epochs')\n",
    "plt.ylabel('loss')"
   ]
  },
  {
   "cell_type": "code",
   "execution_count": 17,
   "metadata": {},
   "outputs": [],
   "source": [
    "with torch.no_grad():\n",
    "\n",
    "    y_eval = my_model.forward(X_test)\n",
    "    loss = criterion(y_eval, y_test)"
   ]
  },
  {
   "cell_type": "code",
   "execution_count": 18,
   "metadata": {},
   "outputs": [
    {
     "name": "stdout",
     "output_type": "stream",
     "text": [
      "loss: 0.26387670636177063\n"
     ]
    }
   ],
   "source": [
    "print(f'loss: {loss}')"
   ]
  },
  {
   "cell_type": "code",
   "execution_count": 19,
   "metadata": {},
   "outputs": [
    {
     "name": "stdout",
     "output_type": "stream",
     "text": [
      "1. tensor([-1.0413,  4.3137]) predicted_y: 1 real_y: 1\n",
      "2. tensor([0.7628, 2.3748]) predicted_y: 1 real_y: 1\n",
      "3. tensor([-0.9594,  4.4249]) predicted_y: 1 real_y: 1\n",
      "4. tensor([ 4.9696, -1.9116]) predicted_y: 0 real_y: 0\n",
      "5. tensor([-2.8374,  7.0569]) predicted_y: 1 real_y: 1\n",
      "6. tensor([-1.1339,  4.9737]) predicted_y: 1 real_y: 1\n",
      "7. tensor([-2.2632,  5.2900]) predicted_y: 1 real_y: 1\n",
      "8. tensor([ 7.4569, -1.6324]) predicted_y: 0 real_y: 0\n",
      "9. tensor([-0.8093,  4.1839]) predicted_y: 1 real_y: 1\n",
      "10. tensor([-2.4422,  6.0237]) predicted_y: 1 real_y: 1\n",
      "11. tensor([2.2333, 0.8450]) predicted_y: 0 real_y: 0\n",
      "12. tensor([-1.1915,  4.4087]) predicted_y: 1 real_y: 1\n",
      "13. tensor([-0.4323,  3.2082]) predicted_y: 1 real_y: 1\n",
      "14. tensor([-0.4801,  3.7923]) predicted_y: 1 real_y: 1\n",
      "15. tensor([ 4.9129, -1.3440]) predicted_y: 0 real_y: 0\n",
      "16. tensor([-1.2701,  3.7950]) predicted_y: 1 real_y: 1\n",
      "17. tensor([-0.7468,  4.2652]) predicted_y: 1 real_y: 1\n",
      "18. tensor([-2.3468,  5.7642]) predicted_y: 1 real_y: 1\n",
      "19. tensor([ 13.9045, -11.5195]) predicted_y: 0 real_y: 0\n",
      "20. tensor([0.9392, 2.3039]) predicted_y: 1 real_y: 0\n",
      "21. tensor([0.1887, 2.2058]) predicted_y: 1 real_y: 1\n",
      "22. tensor([-1.9515,  4.8360]) predicted_y: 1 real_y: 1\n",
      "23. tensor([0.0221, 2.6999]) predicted_y: 1 real_y: 1\n",
      "24. tensor([-1.2661,  4.5762]) predicted_y: 1 real_y: 1\n",
      "25. tensor([3.7834, 0.5474]) predicted_y: 0 real_y: 0\n",
      "26. tensor([0.3498, 2.2683]) predicted_y: 1 real_y: 1\n",
      "27. tensor([ 3.3143, -0.5721]) predicted_y: 0 real_y: 0\n",
      "28. tensor([-2.9819,  7.0081]) predicted_y: 1 real_y: 1\n",
      "29. tensor([ 5.6683, -2.8069]) predicted_y: 0 real_y: 0\n",
      "30. tensor([0.4873, 1.6448]) predicted_y: 1 real_y: 0\n",
      "31. tensor([-1.1255,  4.7248]) predicted_y: 1 real_y: 1\n",
      "32. tensor([1.8351, 0.5592]) predicted_y: 0 real_y: 0\n",
      "33. tensor([0.9209, 1.8289]) predicted_y: 1 real_y: 1\n",
      "34. tensor([ 4.0872, -0.4889]) predicted_y: 0 real_y: 0\n",
      "35. tensor([-2.0298,  5.9831]) predicted_y: 1 real_y: 1\n",
      "36. tensor([-2.5891,  6.3326]) predicted_y: 1 real_y: 1\n",
      "37. tensor([ 4.7817, -1.0366]) predicted_y: 0 real_y: 0\n",
      "38. tensor([1.1487, 1.6588]) predicted_y: 1 real_y: 0\n",
      "39. tensor([ 8.6746, -4.3002]) predicted_y: 0 real_y: 0\n",
      "40. tensor([ 13.8979, -10.3302]) predicted_y: 0 real_y: 0\n",
      "41. tensor([3.6592, 0.1473]) predicted_y: 0 real_y: 0\n",
      "42. tensor([-1.0056,  4.0761]) predicted_y: 1 real_y: 1\n",
      "43. tensor([-0.9077,  4.1113]) predicted_y: 1 real_y: 1\n",
      "44. tensor([1.5596, 1.5302]) predicted_y: 0 real_y: 1\n",
      "45. tensor([-2.5139,  6.0882]) predicted_y: 1 real_y: 1\n",
      "46. tensor([-1.0659,  4.1189]) predicted_y: 1 real_y: 1\n",
      "47. tensor([ 8.7490, -5.7179]) predicted_y: 0 real_y: 0\n",
      "48. tensor([2.0163, 0.8277]) predicted_y: 0 real_y: 1\n",
      "49. tensor([0.2428, 3.4382]) predicted_y: 1 real_y: 0\n",
      "50. tensor([-0.3351,  3.0941]) predicted_y: 1 real_y: 1\n",
      "51. tensor([ 6.0334, -2.2336]) predicted_y: 0 real_y: 0\n",
      "52. tensor([1.9659, 0.4358]) predicted_y: 0 real_y: 1\n",
      "53. tensor([1.1053, 1.6266]) predicted_y: 1 real_y: 1\n",
      "54. tensor([ 8.0811, -3.7210]) predicted_y: 0 real_y: 0\n",
      "55. tensor([-1.8523,  5.3429]) predicted_y: 1 real_y: 1\n",
      "56. tensor([-1.2892,  4.8075]) predicted_y: 1 real_y: 1\n",
      "57. tensor([ 5.7543, -2.4974]) predicted_y: 0 real_y: 0\n",
      "58. tensor([ 7.4686, -3.2433]) predicted_y: 0 real_y: 0\n",
      "59. tensor([-2.1981,  6.1574]) predicted_y: 1 real_y: 1\n",
      "60. tensor([-1.1295,  4.6237]) predicted_y: 1 real_y: 1\n",
      "61. tensor([ 4.0603, -1.2916]) predicted_y: 0 real_y: 0\n",
      "62. tensor([1.9032, 0.8080]) predicted_y: 0 real_y: 0\n",
      "63. tensor([0.6890, 1.8227]) predicted_y: 1 real_y: 1\n",
      "64. tensor([-1.6971,  5.0344]) predicted_y: 1 real_y: 1\n",
      "65. tensor([ 9.7620, -5.8761]) predicted_y: 0 real_y: 0\n",
      "66. tensor([0.9314, 1.5777]) predicted_y: 1 real_y: 1\n",
      "67. tensor([1.2927, 0.9599]) predicted_y: 0 real_y: 1\n",
      "68. tensor([11.1081, -8.0304]) predicted_y: 0 real_y: 0\n",
      "69. tensor([ 5.1185, -0.3270]) predicted_y: 0 real_y: 0\n",
      "70. tensor([-0.7118,  4.2094]) predicted_y: 1 real_y: 1\n",
      "71. tensor([ 6.5457, -2.4210]) predicted_y: 0 real_y: 0\n",
      "72. tensor([0.1086, 3.1144]) predicted_y: 1 real_y: 1\n",
      "73. tensor([-2.1705,  6.1783]) predicted_y: 1 real_y: 1\n",
      "74. tensor([-1.5781,  5.1151]) predicted_y: 1 real_y: 1\n",
      "75. tensor([ 5.4947, -1.2982]) predicted_y: 0 real_y: 0\n",
      "76. tensor([12.8005, -8.3290]) predicted_y: 0 real_y: 0\n",
      "77. tensor([-1.5205,  5.3835]) predicted_y: 1 real_y: 1\n",
      "78. tensor([1.9465, 2.0892]) predicted_y: 1 real_y: 0\n",
      "79. tensor([ 7.5140, -3.3978]) predicted_y: 0 real_y: 0\n",
      "80. tensor([0.8112, 2.6477]) predicted_y: 1 real_y: 1\n",
      "81. tensor([0.3710, 2.3917]) predicted_y: 1 real_y: 1\n",
      "82. tensor([0.7615, 2.3106]) predicted_y: 1 real_y: 1\n",
      "83. tensor([0.3874, 3.1408]) predicted_y: 1 real_y: 1\n",
      "84. tensor([-1.3698,  4.5684]) predicted_y: 1 real_y: 1\n",
      "85. tensor([0.0255, 3.2139]) predicted_y: 1 real_y: 1\n",
      "86. tensor([-3.0340,  7.1279]) predicted_y: 1 real_y: 1\n",
      "87. tensor([ 3.6461, -1.7330]) predicted_y: 0 real_y: 0\n",
      "88. tensor([-1.1892,  4.3929]) predicted_y: 1 real_y: 1\n",
      "89. tensor([ 8.9695, -6.0507]) predicted_y: 0 real_y: 0\n",
      "90. tensor([2.7077, 0.8693]) predicted_y: 0 real_y: 0\n",
      "91. tensor([1.0327, 2.3184]) predicted_y: 1 real_y: 1\n",
      "92. tensor([ 3.5488, -1.2037]) predicted_y: 0 real_y: 0\n",
      "93. tensor([ 3.6339, -1.5578]) predicted_y: 0 real_y: 0\n",
      "94. tensor([1.3896, 0.9472]) predicted_y: 0 real_y: 1\n",
      "95. tensor([-2.3386,  5.7236]) predicted_y: 1 real_y: 1\n",
      "96. tensor([-2.4294,  5.6982]) predicted_y: 1 real_y: 1\n",
      "97. tensor([1.1854, 1.6227]) predicted_y: 1 real_y: 1\n",
      "98. tensor([-0.8240,  4.9967]) predicted_y: 1 real_y: 1\n",
      "99. tensor([ 3.4627, -0.8467]) predicted_y: 0 real_y: 0\n",
      "100. tensor([ 4.3019, -0.0838]) predicted_y: 0 real_y: 0\n",
      "101. tensor([ 7.1078, -2.5433]) predicted_y: 0 real_y: 0\n",
      "102. tensor([-2.3196,  5.6495]) predicted_y: 1 real_y: 1\n",
      "103. tensor([-1.7049,  5.3621]) predicted_y: 1 real_y: 1\n",
      "104. tensor([-2.5717,  5.8291]) predicted_y: 1 real_y: 1\n",
      "105. tensor([0.8730, 1.5418]) predicted_y: 1 real_y: 1\n",
      "106. tensor([-0.2255,  2.9483]) predicted_y: 1 real_y: 1\n",
      "107. tensor([-1.3705,  4.9308]) predicted_y: 1 real_y: 1\n",
      "108. tensor([1.2883, 1.5515]) predicted_y: 1 real_y: 1\n",
      "109. tensor([0.2744, 3.3329]) predicted_y: 1 real_y: 1\n",
      "110. tensor([0.4064, 2.7042]) predicted_y: 1 real_y: 1\n",
      "111. tensor([-2.7258,  6.6558]) predicted_y: 1 real_y: 1\n",
      "112. tensor([-2.8655,  6.8548]) predicted_y: 1 real_y: 1\n",
      "113. tensor([0.7152, 2.7231]) predicted_y: 1 real_y: 1\n",
      "114. tensor([ 5.8813, -2.1149]) predicted_y: 0 real_y: 0\n",
      "115. tensor([1.9181, 0.8468]) predicted_y: 0 real_y: 1\n",
      "116. tensor([-1.9026,  5.5772]) predicted_y: 1 real_y: 1\n",
      "117. tensor([-1.0181,  4.6015]) predicted_y: 1 real_y: 1\n",
      "118. tensor([2.5805, 0.5034]) predicted_y: 0 real_y: 0\n",
      "119. tensor([ 4.8107, -2.1857]) predicted_y: 0 real_y: 0\n",
      "120. tensor([10.5328, -6.7054]) predicted_y: 0 real_y: 0\n",
      "121. tensor([10.6693, -3.0511]) predicted_y: 0 real_y: 0\n",
      "122. tensor([ 8.6900, -4.8179]) predicted_y: 0 real_y: 0\n",
      "123. tensor([ 6.3502, -1.7714]) predicted_y: 0 real_y: 0\n",
      "124. tensor([-1.8337,  5.2757]) predicted_y: 1 real_y: 1\n",
      "125. tensor([0.8390, 2.4806]) predicted_y: 1 real_y: 1\n",
      "126. tensor([-2.6283,  6.2086]) predicted_y: 1 real_y: 1\n",
      "127. tensor([-2.8264,  6.7997]) predicted_y: 1 real_y: 1\n",
      "128. tensor([-2.3191,  5.6507]) predicted_y: 1 real_y: 1\n",
      "129. tensor([0.7378, 3.3330]) predicted_y: 1 real_y: 1\n",
      "130. tensor([0.0114, 3.3320]) predicted_y: 1 real_y: 1\n",
      "131. tensor([10.4466, -6.2281]) predicted_y: 0 real_y: 0\n",
      "132. tensor([ 8.0470, -4.4122]) predicted_y: 0 real_y: 0\n",
      "133. tensor([2.4397, 1.1814]) predicted_y: 0 real_y: 1\n",
      "134. tensor([-0.2296,  3.3880]) predicted_y: 1 real_y: 1\n",
      "135. tensor([0.1476, 3.1328]) predicted_y: 1 real_y: 1\n",
      "136. tensor([-0.8064,  3.8497]) predicted_y: 1 real_y: 1\n",
      "137. tensor([3.7535, 1.6006]) predicted_y: 0 real_y: 0\n",
      "138. tensor([ 2.8499, -0.0517]) predicted_y: 0 real_y: 0\n",
      "139. tensor([11.9187, -8.4802]) predicted_y: 0 real_y: 0\n",
      "140. tensor([-2.8011,  6.3446]) predicted_y: 1 real_y: 1\n",
      "141. tensor([ 6.3292, -2.8823]) predicted_y: 0 real_y: 0\n",
      "142. tensor([-0.6654,  3.5685]) predicted_y: 1 real_y: 1\n",
      "143. tensor([10.8833, -8.7038]) predicted_y: 0 real_y: 0\n",
      "144. tensor([0.7294, 2.1028]) predicted_y: 1 real_y: 1\n",
      "145. tensor([0.3210, 2.4795]) predicted_y: 1 real_y: 1\n",
      "146. tensor([1.0483, 2.2883]) predicted_y: 1 real_y: 1\n",
      "147. tensor([2.1850, 1.3974]) predicted_y: 0 real_y: 1\n",
      "148. tensor([-1.6731,  5.2752]) predicted_y: 1 real_y: 1\n",
      "149. tensor([1.8316, 1.1181]) predicted_y: 0 real_y: 1\n",
      "150. tensor([0.9225, 1.8805]) predicted_y: 1 real_y: 1\n",
      "151. tensor([-2.4668,  6.1848]) predicted_y: 1 real_y: 1\n",
      "152. tensor([ 4.8844, -0.9220]) predicted_y: 0 real_y: 0\n",
      "153. tensor([ 4.0796, -1.7944]) predicted_y: 0 real_y: 0\n",
      "154. tensor([ 7.6662, -3.3610]) predicted_y: 0 real_y: 0\n",
      "155. tensor([-2.7297,  6.2459]) predicted_y: 1 real_y: 1\n",
      "156. tensor([ 8.4128, -4.0823]) predicted_y: 0 real_y: 0\n",
      "157. tensor([-2.2210,  5.5693]) predicted_y: 1 real_y: 1\n",
      "158. tensor([ 5.7522, -2.0975]) predicted_y: 0 real_y: 0\n",
      "159. tensor([-2.4501,  6.0743]) predicted_y: 1 real_y: 1\n",
      "160. tensor([-2.6274,  6.7681]) predicted_y: 1 real_y: 1\n",
      "161. tensor([0.7256, 2.4722]) predicted_y: 1 real_y: 0\n",
      "162. tensor([-1.3210,  4.5982]) predicted_y: 1 real_y: 1\n",
      "163. tensor([-2.6405,  6.2193]) predicted_y: 1 real_y: 1\n",
      "164. tensor([ 9.1068, -4.8827]) predicted_y: 0 real_y: 0\n",
      "165. tensor([ 6.0281, -1.9407]) predicted_y: 0 real_y: 0\n",
      "166. tensor([-3.0381,  8.4247]) predicted_y: 1 real_y: 0\n",
      "167. tensor([-0.5538,  3.3795]) predicted_y: 1 real_y: 1\n",
      "168. tensor([-0.9110,  4.6867]) predicted_y: 1 real_y: 1\n",
      "169. tensor([-2.3363,  5.6844]) predicted_y: 1 real_y: 1\n",
      "170. tensor([0.9361, 2.6161]) predicted_y: 1 real_y: 0\n",
      "171. tensor([-0.3269,  3.1726]) predicted_y: 1 real_y: 0\n",
      "we got 153 correct\n"
     ]
    }
   ],
   "source": [
    "correct = 0\n",
    "prediction = []\n",
    "with torch.no_grad():\n",
    "    for i,data in enumerate(X_test):\n",
    "        y_eval = my_model.forward(data)\n",
    "        print(f'{i+1}. {str(y_eval)} predicted_y: {y_eval.argmax().item()} real_y: {y_test[i]}')\n",
    "        \n",
    "        prediction.append(y_eval.argmax().item())\n",
    "        if y_eval.argmax().item() == y_test[i]:\n",
    "            correct += 1\n",
    "print(f'we got {correct} correct')"
   ]
  },
  {
   "cell_type": "code",
   "execution_count": 22,
   "metadata": {},
   "outputs": [],
   "source": [
    "from sklearn.metrics import classification_report, confusion_matrix"
   ]
  },
  {
   "cell_type": "code",
   "execution_count": 25,
   "metadata": {},
   "outputs": [
    {
     "name": "stdout",
     "output_type": "stream",
     "text": [
      "[[57  9]\n",
      " [ 9 96]]\n"
     ]
    }
   ],
   "source": [
    "print(confusion_matrix(y_test, prediction))"
   ]
  },
  {
   "cell_type": "code",
   "execution_count": 26,
   "metadata": {},
   "outputs": [
    {
     "name": "stdout",
     "output_type": "stream",
     "text": [
      "              precision    recall  f1-score   support\n",
      "\n",
      "           0       0.86      0.86      0.86        66\n",
      "           1       0.91      0.91      0.91       105\n",
      "\n",
      "    accuracy                           0.89       171\n",
      "   macro avg       0.89      0.89      0.89       171\n",
      "weighted avg       0.89      0.89      0.89       171\n",
      "\n"
     ]
    }
   ],
   "source": [
    "print(classification_report(y_test, prediction))"
   ]
  },
  {
   "cell_type": "code",
   "execution_count": 27,
   "metadata": {},
   "outputs": [],
   "source": [
    "torch.save(my_model.state_dict(), 'Cancer_prediction.pt')"
   ]
  },
  {
   "cell_type": "code",
   "execution_count": 32,
   "metadata": {},
   "outputs": [],
   "source": [
    "new_data = torch.tensor([[1.799e+01, 1.038e+01, 1.228e+02, 1.001e+03, 1.184e-01, 2.776e-01,\n",
    "       3.001e-01, 1.471e-01, 2.419e-01, 7.871e-02, 1.095e+00, 9.053e-01,\n",
    "       8.589e+00, 1.534e+02, 6.399e-03, 4.904e-02, 5.373e-02, 1.587e-02,\n",
    "       3.003e-02, 6.193e-03, 2.538e+01, 1.733e+01, 1.846e+02, 2.019e+03,\n",
    "       1.622e-01, 6.656e-01, 7.119e-01, 2.654e-01, 4.601e-01, 1.189e-01]])"
   ]
  },
  {
   "cell_type": "code",
   "execution_count": 33,
   "metadata": {},
   "outputs": [
    {
     "data": {
      "text/plain": [
       "tensor([[1.7990e+01, 1.0380e+01, 1.2280e+02, 1.0010e+03, 1.1840e-01, 2.7760e-01,\n",
       "         3.0010e-01, 1.4710e-01, 2.4190e-01, 7.8710e-02, 1.0950e+00, 9.0530e-01,\n",
       "         8.5890e+00, 1.5340e+02, 6.3990e-03, 4.9040e-02, 5.3730e-02, 1.5870e-02,\n",
       "         3.0030e-02, 6.1930e-03, 2.5380e+01, 1.7330e+01, 1.8460e+02, 2.0190e+03,\n",
       "         1.6220e-01, 6.6560e-01, 7.1190e-01, 2.6540e-01, 4.6010e-01, 1.1890e-01]])"
      ]
     },
     "execution_count": 33,
     "metadata": {},
     "output_type": "execute_result"
    }
   ],
   "source": [
    "new_data"
   ]
  },
  {
   "cell_type": "code",
   "execution_count": 37,
   "metadata": {},
   "outputs": [],
   "source": [
    "with torch.no_grad():\n",
    "    prediction = my_model(new_data)"
   ]
  },
  {
   "cell_type": "code",
   "execution_count": 39,
   "metadata": {},
   "outputs": [
    {
     "name": "stdout",
     "output_type": "stream",
     "text": [
      "tensor([[11.1081, -8.0304]])\n",
      "0\n",
      "you dont have cancer\n"
     ]
    }
   ],
   "source": [
    "print(prediction)\n",
    "print(prediction.argmax().item())\n",
    "\n",
    "if prediction.argmax().item() == 0:\n",
    "    print('you dont have cancer')\n",
    "else:\n",
    "    print('you have cancer')"
   ]
  },
  {
   "cell_type": "code",
   "execution_count": null,
   "metadata": {},
   "outputs": [],
   "source": []
  }
 ],
 "metadata": {
  "kernelspec": {
   "display_name": "Python 3",
   "language": "python",
   "name": "python3"
  },
  "language_info": {
   "codemirror_mode": {
    "name": "ipython",
    "version": 3
   },
   "file_extension": ".py",
   "mimetype": "text/x-python",
   "name": "python",
   "nbconvert_exporter": "python",
   "pygments_lexer": "ipython3",
   "version": "3.7.6"
  }
 },
 "nbformat": 4,
 "nbformat_minor": 4
}
